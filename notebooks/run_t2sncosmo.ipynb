{
 "cells": [
  {
   "cell_type": "markdown",
   "metadata": {},
   "source": [
    "Run the T2 sncosmo on sample ampel/ztf lightcurves"
   ]
  },
  {
   "cell_type": "code",
   "execution_count": 1,
   "metadata": {},
   "outputs": [],
   "source": [
    "import re, os\n",
    "#import json, os, sys, re, glob\n",
    "import ampel.utils.json_serialization as ampel_serialization\n",
    "import logging\n",
    "import gzip\n",
    "import importlib\n",
    "from ampel.ztf.pipeline.common.ZTFUtils import ZTFUtils\n",
    "#import sncosmo\n",
    "#import matplotlib.pyplot as plt\n",
    "#import numpy as np\n",
    "import ampel.contrib.hu.t2.T2SNCosmo as T2SNCosmo\n",
    "import sncosmo"
   ]
  },
  {
   "cell_type": "code",
   "execution_count": 2,
   "metadata": {},
   "outputs": [
    {
     "data": {
      "text/plain": [
       "<module 'ampel.contrib.hu.t2.T2SNCosmo' from '/home/jnordin/github/ampeldev/Ampel-contrib-HU/ampel/contrib/hu/t2/T2SNCosmo.py'>"
      ]
     },
     "execution_count": 2,
     "metadata": {},
     "output_type": "execute_result"
    }
   ],
   "source": [
    "importlib.reload(T2SNCosmo)"
   ]
  },
  {
   "cell_type": "code",
   "execution_count": null,
   "metadata": {},
   "outputs": [],
   "source": [
    "# Find some sample data to use for fit\n",
    "# Get some sample lcs\n",
    "tvdir = '/home/jnordin/data/transientViews/'\n",
    "fname = tvdir+'tnscomplete_aug28.json.gz'\n",
    "# Get a TransientView iterator\n",
    "if re.search('gz$',fname):\n",
    "    tv_iterator = ampel_serialization.load(gzip.open(fname,'rb'))\n",
    "else:    \n",
    "    tv_iterator = ampel_serialization.load(open(fname))\n",
    "tvlist = []\n",
    "try:\n",
    "    for tv in tv_iterator:\n",
    "        tvlist.append(tv)\n",
    "except EOFError as e:\n",
    "    print('... prob just the usual missing eof marker. Check that the number agrees')\n",
    "print('Found %s transient views'%(len(tvlist)))"
   ]
  },
  {
   "cell_type": "code",
   "execution_count": 4,
   "metadata": {},
   "outputs": [],
   "source": [
    "# Create a logger\n",
    "logger = logging.getLogger('jnordin')\n",
    "logger.setLevel((logging.INFO))\n",
    "logpath = '/home/jnordin/tmp/'\n",
    "handler = logging.FileHandler(os.path.join(logpath, 'run_t2sncosmo.log'))\n",
    "logger.addHandler(handler)"
   ]
  },
  {
   "cell_type": "code",
   "execution_count": null,
   "metadata": {},
   "outputs": [],
   "source": [
    "# Base definition for salt2 fit\n",
    "base_config = {}\n",
    "run_config = {\n",
    "            \"model\": \"salt2\",\n",
    "            \"with_upper_limits\": False,\n",
    "            \"sncosmo_kwarg\": {},\n",
    "            \"min_det\" : 8,\n",
    "            \"jd_reject_sigma\" : 5,\n",
    "            \"min_duration\" : 10,\n",
    "            \"max_duration\" : 90\n",
    "        }\n",
    "fit_sne = []"
   ]
  },
  {
   "cell_type": "code",
   "execution_count": null,
   "metadata": {},
   "outputs": [],
   "source": [
    "# Base definition for kilonova fit\n",
    "base_config = {}\n",
    "run_config = {\n",
    "            \"model\": \"kilo_mej0.02_lant15_theta90\",\n",
    "            \"with_upper_limits\": False,\n",
    "#            \"sncosmo_kwarg\": {\"bounds\":{'z':[0,0.05]}},\n",
    "#            \"sncosmo_kwarg\": {\"bounds\":{'amplitude':[2e-14,1e-13],'z':[0,0.05]}},\n",
    "#            \"sncosmo_kwarg\": {\"bounds\":{'amplitude':[4e-13,8e-13],'t0':[2458713.75,2458713.751],'z':[0,0.05]}},\n",
    "#            \"sncosmo_kwarg\": {\"bounds\":{'t0':[2458713.75,2458713.751],'z':[0,0.05]}},\n",
    "#            \"sncosmo_kwarg\": {\"bounds\":{'amplitude':[1500,3000]}},\n",
    "            \"sncosmo_kwarg\": {},\n",
    "#            \"z_discrete\": [0.01],\n",
    "            \"min_det\" : 8,\n",
    "            \"jd_reject_sigma\" : 5,\n",
    "            \"min_duration\" : 3,\n",
    "            \"max_duration\" : 16\n",
    "        }"
   ]
  },
  {
   "cell_type": "code",
   "execution_count": 3,
   "metadata": {},
   "outputs": [
    {
     "ename": "NameError",
     "evalue": "name 'logger' is not defined",
     "output_type": "error",
     "traceback": [
      "\u001b[0;31m---------------------------------------------------------------------------\u001b[0m",
      "\u001b[0;31mNameError\u001b[0m                                 Traceback (most recent call last)",
      "\u001b[0;32m<ipython-input-3-27b0f0046690>\u001b[0m in \u001b[0;36m<module>\u001b[0;34m\u001b[0m\n\u001b[1;32m      1\u001b[0m \u001b[0mimportlib\u001b[0m\u001b[0;34m.\u001b[0m\u001b[0mreload\u001b[0m\u001b[0;34m(\u001b[0m\u001b[0msncosmo\u001b[0m\u001b[0;34m)\u001b[0m\u001b[0;34m\u001b[0m\u001b[0;34m\u001b[0m\u001b[0m\n\u001b[1;32m      2\u001b[0m \u001b[0mimportlib\u001b[0m\u001b[0;34m.\u001b[0m\u001b[0mreload\u001b[0m\u001b[0;34m(\u001b[0m\u001b[0mT2SNCosmo\u001b[0m\u001b[0;34m)\u001b[0m\u001b[0;34m\u001b[0m\u001b[0;34m\u001b[0m\u001b[0m\n\u001b[0;32m----> 3\u001b[0;31m \u001b[0mmyt2\u001b[0m \u001b[0;34m=\u001b[0m \u001b[0mT2SNCosmo\u001b[0m\u001b[0;34m.\u001b[0m\u001b[0mT2SNCosmo\u001b[0m\u001b[0;34m(\u001b[0m\u001b[0mlogger\u001b[0m\u001b[0;34m,\u001b[0m \u001b[0mbase_config\u001b[0m\u001b[0;34m)\u001b[0m\u001b[0;34m\u001b[0m\u001b[0;34m\u001b[0m\u001b[0m\n\u001b[0m",
      "\u001b[0;31mNameError\u001b[0m: name 'logger' is not defined"
     ]
    }
   ],
   "source": [
    "importlib.reload(sncosmo)\n",
    "importlib.reload(T2SNCosmo)\n",
    "myt2 = T2SNCosmo.T2SNCosmo(logger, base_config)"
   ]
  },
  {
   "cell_type": "code",
   "execution_count": null,
   "metadata": {},
   "outputs": [],
   "source": [
    "%%time\n",
    "for tv in tvlist:\n",
    "    ztf_name = ZTFUtils.to_ztf_id(tv.tran_id)    \n",
    "    if len(fit_sne)>0 and not ztf_name in fit_sne : continue\n",
    "    print(ztf_name)    \n",
    "    run_config['savefile'] = '/home/jnordin/tmp/sncosmo/%s.pdf'%(ztf_name)\n",
    "#    run_config['savefile'] = None\n",
    "    lc = tv.get_latest_lightcurve()\n",
    "    out = myt2.run(lc, run_config)\n",
    "    try:\n",
    "        print(out['fit_results'])\n",
    "    except KeyError:\n",
    "        print('no result')"
   ]
  },
  {
   "cell_type": "code",
   "execution_count": null,
   "metadata": {},
   "outputs": [],
   "source": [
    "# Focus on subset of sne where fit aught to work\n",
    "# These are sne that seem to fit both for salt and kilonova fits\n",
    "fit_sne = [\"ZTF19abqhbuk\",\"ZTF19abqykti\"]\n",
    "# These are sne that work for salt - do they work for the kilonova?\n",
    "fit_sne = [\"ZTF19abjgdko\",\"ZTF19ablpfhz\",\"ZTF19aboumcn\",\"ZTF19abqgxpt\",\"ZTF19abqyopw\",\"ZTF19abrorbx\"]\n",
    "fit_sne = [\"ZTF19abqgxpt\"]\n",
    "# Objects that just seems to lead to too low fits\n",
    "fit_sne = [\"ZTF19abqyogn\",\"ZTF19abqyoom\"]\n",
    "# Next round, after increasing the tgrid sampling. Still has not fixed all..\n",
    "fit_sne = [\"ZTF19abqgyxp\",\"ZTF19abqykti\",\"ZTF19abttlwl\"]\n",
    "fit_sne = [\"ZTF19abqgyxp\"]\n",
    "\n",
    "#fit_sne = []"
   ]
  },
  {
   "cell_type": "code",
   "execution_count": null,
   "metadata": {},
   "outputs": [],
   "source": [
    "# Manual run\n",
    "lc = None\n",
    "for tv in tvlist:\n",
    "    ztf_name = ZTFUtils.to_ztf_id(tv.tran_id)    \n",
    "    if not ztf_name in fit_sne : continue\n",
    "    print(ztf_name)    \n",
    "    lc = tv.get_latest_lightcurve()\n",
    "print(lc)"
   ]
  },
  {
   "cell_type": "code",
   "execution_count": null,
   "metadata": {},
   "outputs": [],
   "source": [
    "# Load the data\n",
    "sncosmo_tool = T2SNCosmo.SNCosmoTool()\n",
    "sncosmo_tool.load_data(lc, with_upper_limits = False )"
   ]
  },
  {
   "cell_type": "code",
   "execution_count": null,
   "metadata": {},
   "outputs": [],
   "source": [
    "# Load the model\n",
    "sncosmo_model, parameter_names, fit_kwargs = sncosmo_tool.get_kilonova_model(\n",
    "        \"kilo_mej0.02_lant15_theta90\", 0)"
   ]
  },
  {
   "cell_type": "code",
   "execution_count": null,
   "metadata": {},
   "outputs": [],
   "source": [
    "sncosmo_model.set(z=0)\n",
    "sncosmo_model.set(hostebv=0)\n",
    "sncosmo_model.set(theta=90)"
   ]
  },
  {
   "cell_type": "code",
   "execution_count": null,
   "metadata": {},
   "outputs": [],
   "source": [
    "result, fit_model = sncosmo.fit_lc(sncosmo_tool.sncosmo_data, sncosmo_model, ['amplitude','t0'])"
   ]
  },
  {
   "cell_type": "code",
   "execution_count": null,
   "metadata": {},
   "outputs": [],
   "source": [
    "result"
   ]
  },
  {
   "cell_type": "code",
   "execution_count": null,
   "metadata": {},
   "outputs": [],
   "source": [
    "print(result['success'])\n",
    "print(result['chisq'])\n",
    "fig = sncosmo.plot_lc(sncosmo_tool.sncosmo_data, model = fit_model, pulls=True)"
   ]
  },
  {
   "cell_type": "code",
   "execution_count": null,
   "metadata": {},
   "outputs": [],
   "source": [
    "for amp in [200,220,240,260,280,\"300\"]:\n",
    "    sncosmo_model.set(amplitude=amp)\n",
    "    result, fit_model = sncosmo.fit_lc(sncosmo_tool.sncosmo_data, sncosmo_model, ['t0'])\n",
    "    print(amp)\n",
    "    print(result['success'])\n",
    "    print(result['chisq'])\n",
    "    fig = sncosmo.plot_lc(sncosmo_tool.sncosmo_data, model = fit_model, pulls=True)"
   ]
  },
  {
   "cell_type": "code",
   "execution_count": null,
   "metadata": {},
   "outputs": [],
   "source": []
  }
 ],
 "metadata": {
  "kernelspec": {
   "display_name": "Python 3",
   "language": "python",
   "name": "python3"
  },
  "language_info": {
   "codemirror_mode": {
    "name": "ipython",
    "version": 3
   },
   "file_extension": ".py",
   "mimetype": "text/x-python",
   "name": "python",
   "nbconvert_exporter": "python",
   "pygments_lexer": "ipython3",
   "version": "3.6.7"
  }
 },
 "nbformat": 4,
 "nbformat_minor": 2
}
