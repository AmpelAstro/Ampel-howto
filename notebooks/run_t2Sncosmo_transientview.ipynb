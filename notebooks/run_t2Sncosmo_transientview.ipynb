{
 "cells": [
  {
   "cell_type": "markdown",
   "metadata": {},
   "source": [
    "This notebook demonstrates how to run a T2 analysis unit (in this case sncosmo) on a list (tar) of transient views. Transient views are summaries of all information regarding a transient exported from the core Ampel DB. Using these thus do not require an active local database. "
   ]
  },
  {
   "cell_type": "code",
   "execution_count": null,
   "metadata": {},
   "outputs": [],
   "source": [
    "import re, os\n",
    "import ampel.utils.json_serialization as ampel_serialization\n",
    "import logging\n",
    "import gzip\n",
    "import importlib\n",
    "from ampel.ztf.pipeline.common.ZTFUtils import ZTFUtils\n",
    "import ampel.contrib.hu.t2.T2SNCosmo as T2SNCosmo\n",
    "import sncosmo"
   ]
  },
  {
   "cell_type": "code",
   "execution_count": null,
   "metadata": {},
   "outputs": [],
   "source": [
    "# Paths etc (edit as needed)\n",
    "# Transient view collection\n",
    "tvdir = '/home/jnordin/data/transientViews/'     # *** Change path *** # \n",
    "fname = tvdir+'tnscomplete_aug28.json.gz'        # *** Change path *** #\n",
    "outdir = '/home/jnordin/tmp/sncosmo/'\n",
    "# Logging    # \n",
    "logpath = '/home/jnordin/tmp/' # *** Change path *** # \n",
    "# Which model to fit\n",
    "fitmodel = 'salt2'\n",
    "#fitmodel = \"kilo_mej0.02_lant15_theta90\"\n",
    "# Limit fit to subset of sne\n",
    "fit_sne = []"
   ]
  },
  {
   "cell_type": "code",
   "execution_count": null,
   "metadata": {},
   "outputs": [],
   "source": [
    "# Get a TransientView iterator\n",
    "if re.search('gz$',fname):\n",
    "    tv_iterator = ampel_serialization.load(gzip.open(fname,'rb'))\n",
    "else:    \n",
    "    tv_iterator = ampel_serialization.load(open(fname))\n",
    "tvlist = []\n",
    "try:\n",
    "    for tv in tv_iterator:\n",
    "        tvlist.append(tv)\n",
    "except EOFError as e:\n",
    "    print('... prob just the usual missing eof marker. Check that the number agrees')\n",
    "print('Found %s transient views'%(len(tvlist)))"
   ]
  },
  {
   "cell_type": "code",
   "execution_count": null,
   "metadata": {},
   "outputs": [],
   "source": [
    "# Create a logger\n",
    "logger = logging.getLogger()\n",
    "logger.setLevel((logging.INFO))\n",
    "handler = logging.FileHandler(os.path.join(logpath, 'run_t2sncosmo.log'))\n",
    "logger.addHandler(handler)"
   ]
  },
  {
   "cell_type": "markdown",
   "metadata": {},
   "source": [
    " What lightcurve fit is being carried out is detrmined by the run (and base) configurations which are supplied to the analysis unit."
   ]
  },
  {
   "cell_type": "code",
   "execution_count": null,
   "metadata": {},
   "outputs": [],
   "source": [
    "# The base config are channel parameters provided to the analysis unit at init. Usually not needed.\n",
    "base_config = {}"
   ]
  },
  {
   "cell_type": "code",
   "execution_count": null,
   "metadata": {},
   "outputs": [],
   "source": [
    "# The run config are parameters used by the analysis unit for each fit. For sncosmo these are usually model dependent\n",
    "if fitmodel=='salt2':\n",
    "    run_config = {\n",
    "            \"model\": \"salt2\",\n",
    "            \"with_upper_limits\": False,\n",
    "            \"sncosmo_kwarg\": {},\n",
    "            \"min_det\" : 8,\n",
    "            \"jd_reject_sigma\" : 5,\n",
    "            \"min_duration\" : 10,\n",
    "            \"max_duration\" : 90\n",
    "            }\n",
    "if fitmodel==\"kilo_mej0.02_lant15_theta90\":\n",
    "    run_config = {\n",
    "            \"model\": \"kilo_mej0.02_lant15_theta90\",\n",
    "            \"with_upper_limits\": False,\n",
    "            \"sncosmo_kwarg\": {\"bounds\":{'z':[0,0.05]}},\n",
    "            \"min_det\" : 8,\n",
    "            \"jd_reject_sigma\" : 5,\n",
    "            \"min_duration\" : 3,\n",
    "            \"max_duration\" : 16\n",
    "        }"
   ]
  },
  {
   "cell_type": "code",
   "execution_count": null,
   "metadata": {},
   "outputs": [],
   "source": [
    "# During development\n",
    "importlib.reload(sncosmo)\n",
    "importlib.reload(T2SNCosmo)"
   ]
  },
  {
   "cell_type": "code",
   "execution_count": null,
   "metadata": {},
   "outputs": [],
   "source": [
    "# This is where an instance of the T2 analysis module is created\n",
    "myt2 = T2SNCosmo.T2SNCosmo(logger, base_config)"
   ]
  },
  {
   "cell_type": "code",
   "execution_count": null,
   "metadata": {},
   "outputs": [],
   "source": [
    "%%time\n",
    "for tv in tvlist:\n",
    "    ztf_name = ZTFUtils.to_ztf_id(tv.tran_id)    \n",
    "    if len(fit_sne)>0 and not ztf_name in fit_sne : continue\n",
    "    print('Trying to fit model %s to %s'%(fitmodel,ztf_name))    \n",
    "    run_config['savefile'] = outdir+'%s.pdf'%(ztf_name)   \n",
    "    lc = tv.get_latest_lightcurve()\n",
    "    out = myt2.run(lc, run_config)\n",
    "    if len(out)==0:\n",
    "        print('   no fit done (insufficient data?)')\n",
    "    else:\n",
    "        print('   model fit output: ',out['fit_results'])\n"
   ]
  },
  {
   "cell_type": "code",
   "execution_count": null,
   "metadata": {},
   "outputs": [],
   "source": []
  },
  {
   "cell_type": "code",
   "execution_count": null,
   "metadata": {},
   "outputs": [],
   "source": []
  },
  {
   "cell_type": "code",
   "execution_count": null,
   "metadata": {},
   "outputs": [],
   "source": []
  },
  {
   "cell_type": "code",
   "execution_count": null,
   "metadata": {},
   "outputs": [],
   "source": []
  },
  {
   "cell_type": "code",
   "execution_count": null,
   "metadata": {},
   "outputs": [],
   "source": []
  },
  {
   "cell_type": "code",
   "execution_count": null,
   "metadata": {},
   "outputs": [],
   "source": []
  },
  {
   "cell_type": "code",
   "execution_count": null,
   "metadata": {},
   "outputs": [],
   "source": [
    "\n"
   ]
  },
  {
   "cell_type": "code",
   "execution_count": null,
   "metadata": {},
   "outputs": [],
   "source": [
    "\n"
   ]
  },
  {
   "cell_type": "code",
   "execution_count": null,
   "metadata": {},
   "outputs": [],
   "source": []
  },
  {
   "cell_type": "code",
   "execution_count": null,
   "metadata": {},
   "outputs": [],
   "source": []
  }
 ],
 "metadata": {
  "kernelspec": {
   "display_name": "Python 3",
   "language": "python",
   "name": "python3"
  },
  "language_info": {
   "codemirror_mode": {
    "name": "ipython",
    "version": 3
   },
   "file_extension": ".py",
   "mimetype": "text/x-python",
   "name": "python",
   "nbconvert_exporter": "python",
   "pygments_lexer": "ipython3",
   "version": "3.6.7"
  }
 },
 "nbformat": 4,
 "nbformat_minor": 2
}
